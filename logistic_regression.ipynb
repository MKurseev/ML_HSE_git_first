{
 "cells": [
  {
   "cell_type": "markdown",
   "metadata": {
    "id": "-rv8GtBgowPq"
   },
   "source": [
    "##  Логистическая регрессия"
   ]
  },
  {
   "cell_type": "markdown",
   "metadata": {
    "id": "hQbPELrKowPr"
   },
   "source": [
    "   В машинном обучении задачей классификации называется ситуация, когда в качестве целевой переменнной $y$ (переменной которую мы хотим предсказать) выступает категориальная переменная. Это означает, что данная переменная задает разбиение нашего датасета на классы, которых может быть как 2, так и больше. \n",
    "   \n",
    "   Нашей задачей в таком случае становится построение алгоритма $a(x)$, который бы смог отделить классы друг от друга в пространстве признаков, или что тоже самое провести разделяющую поверхность между классами."
   ]
  },
  {
   "cell_type": "markdown",
   "metadata": {
    "id": "GirFd7JnowPs"
   },
   "source": [
    "Начнем с задачи бинарной классификации.\n",
    "\n",
    "В линейном бинарном классификаторе разделяющая поверхность - гиперплоскость, а алгоритм $a(x)$ задается равенством\n",
    "\n",
    "$$a(x) = sign(w_0 + \\sum_{j = 1}^{d}w_jx^j)$$"
   ]
  },
  {
   "cell_type": "markdown",
   "metadata": {
    "id": "Q6Fc8jVoowPt"
   },
   "source": [
    "где \n",
    "$w_0$ - свободный коэффициент\n",
    "$w_1,...,w_d$ - веса\n",
    "$x^j$ - признаки"
   ]
  },
  {
   "cell_type": "markdown",
   "metadata": {
    "id": "EuH9Rt0eowPu"
   },
   "source": [
    "Прежде чем обучать алгоритм, нам необходимо выбрать функционал качества $Q(a, X)$ для нашей задачи.\n",
    "\n",
    "$$Q(a, X) = \\frac{1}{n}\\sum_{i=1}^{n}L(y_i, a(x_i))$$\n",
    "\n",
    "где $L(y, a(x))$ - функция потерь\n",
    "\n",
    "Как известно, выбрав функционалом качества долю неправильных ответов, мы не сможем решать задачу минимизации с помощью градиентных методов. Поэтому мы аппроксимируем функционал качества сверху $$Q(a, X)\\le \\frac{1}{n} \\sum_{i=1}^{n}\\tilde L(y_i, a(x_i))$$\n",
    "\n",
    "где $\\tilde L(y_i, a(x_i))$ гладкая  и диффиренцируемая функция\n",
    "\n",
    "Одним из решений является логистическая функция потерь, которая имеет следующий вид:\n",
    "\n",
    "$$\n",
    "\\tilde L(y_i, a(x_i)) = - (y_i \\log(p_i) + (1 - y_i) \\log(1 - p_i))\n",
    "$$\n",
    "\n",
    "где $p_i$ - это вероятность принадлежности объекта $x_i$ к классу 1, предсказанная нашим алгоритмом. \n",
    "\n",
    "Чтобы получить $p_i$ введем алгоритм линейной регрессии $b(x)$\n",
    "$$\n",
    "b(x) = w_0 + \\langle w, x \\rangle = w_0 + \\sum_{i=1}^{d} w_i x_i\n",
    "$$\n",
    "\n",
    "Чтобы получить алгоритм, который возвращает значения из интервала $(0, 1)$, можно обернуть выход алгоритма $b(x)$ в сигмоиду. Сигмоида это любая S - образная функция принимающая значения из $(0, 1)$. Частный случай: логистическая функция, которая имеет следующий вид:\n",
    "\n",
    "$$\n",
    "\\sigma (z) = \\frac{1}{1 + e^{-z}}\n",
    "$$\n",
    "\n"
   ]
  },
  {
   "cell_type": "markdown",
   "metadata": {
    "id": "3WtcSAXkowPu"
   },
   "source": [
    "\n",
    "В результате предсказание вероятности принадлежности объекта к положительному классу можно записать как:\n",
    "\n",
    "$$\n",
    "p_i = P(y = +1 | x) = \\frac{1}{1 + \\exp(- w_0 - \\langle w, x \\rangle )}\n",
    "$$"
   ]
  },
  {
   "cell_type": "markdown",
   "metadata": {
    "id": "IrxEAatTowPv"
   },
   "source": [
    "## 1. Обработка данных"
   ]
  },
  {
   "cell_type": "markdown",
   "metadata": {
    "id": "xXewN3CvowPw"
   },
   "source": [
    "#### 1.1 Загрузка данных"
   ]
  },
  {
   "cell_type": "markdown",
   "metadata": {
    "id": "aMIPTWwfowPw"
   },
   "source": [
    "Загрузим датасет о пассажирах титаника."
   ]
  },
  {
   "cell_type": "code",
   "execution_count": 1,
   "metadata": {
    "id": "0k0lvODVowPx"
   },
   "outputs": [],
   "source": [
    "import pandas as pd\n",
    "import numpy as np"
   ]
  },
  {
   "cell_type": "code",
   "execution_count": 2,
   "metadata": {
    "id": "metsksoVrnaE"
   },
   "outputs": [],
   "source": [
    "Data = pd.read_csv('titanic.csv')"
   ]
  },
  {
   "cell_type": "markdown",
   "metadata": {
    "id": "GGJSiY1PowP2"
   },
   "source": [
    "в файле train.csv каждая строчка наборов данных содержит следующие поля:\n",
    "\n",
    "- `Survived` - целевая переменная, выжил пассажир или нет\n",
    "\n",
    "- `Pclass` — класс пассажира (1 — высший, 2 — средний, 3 — низший);\n",
    "\n",
    "- `Name` — имя;\n",
    "\n",
    "- `Sex` — пол;\n",
    "\n",
    "- `Age` — возраст;\n",
    "\n",
    "- `SibSp` — количество братьев, сестер, сводных братьев, сводных сестер, супругов на борту титаника;\n",
    "\n",
    "- `Parch` — количество родителей, детей (в том числе приемных) на борту титаника;\n",
    "\n",
    "- `Ticket` — номер билета;\n",
    "\n",
    "- `Fare`— плата за проезд;\n",
    "\n",
    "- `Cabin` — каюта;\n",
    "\n",
    "- `Embarked` — порт посадки (C — Шербур; Q — Квинстаун; S — Саутгемптон).\n",
    " "
   ]
  },
  {
   "cell_type": "code",
   "execution_count": 3,
   "metadata": {
    "colab": {
     "base_uri": "https://localhost:8080/",
     "height": 499
    },
    "id": "fse6iGTtowP2",
    "outputId": "ff806964-a054-40b0-f03c-83d8e0975c3c"
   },
   "outputs": [
    {
     "data": {
      "text/html": [
       "<div>\n",
       "<style scoped>\n",
       "    .dataframe tbody tr th:only-of-type {\n",
       "        vertical-align: middle;\n",
       "    }\n",
       "\n",
       "    .dataframe tbody tr th {\n",
       "        vertical-align: top;\n",
       "    }\n",
       "\n",
       "    .dataframe thead th {\n",
       "        text-align: right;\n",
       "    }\n",
       "</style>\n",
       "<table border=\"1\" class=\"dataframe\">\n",
       "  <thead>\n",
       "    <tr style=\"text-align: right;\">\n",
       "      <th></th>\n",
       "      <th>PassengerId</th>\n",
       "      <th>Survived</th>\n",
       "      <th>Pclass</th>\n",
       "      <th>Name</th>\n",
       "      <th>Sex</th>\n",
       "      <th>Age</th>\n",
       "      <th>SibSp</th>\n",
       "      <th>Parch</th>\n",
       "      <th>Ticket</th>\n",
       "      <th>Fare</th>\n",
       "      <th>Cabin</th>\n",
       "      <th>Embarked</th>\n",
       "    </tr>\n",
       "  </thead>\n",
       "  <tbody>\n",
       "    <tr>\n",
       "      <th>0</th>\n",
       "      <td>1</td>\n",
       "      <td>0</td>\n",
       "      <td>3</td>\n",
       "      <td>Braund, Mr. Owen Harris</td>\n",
       "      <td>male</td>\n",
       "      <td>22.0</td>\n",
       "      <td>1</td>\n",
       "      <td>0</td>\n",
       "      <td>A/5 21171</td>\n",
       "      <td>7.2500</td>\n",
       "      <td>NaN</td>\n",
       "      <td>S</td>\n",
       "    </tr>\n",
       "    <tr>\n",
       "      <th>1</th>\n",
       "      <td>2</td>\n",
       "      <td>1</td>\n",
       "      <td>1</td>\n",
       "      <td>Cumings, Mrs. John Bradley (Florence Briggs Th...</td>\n",
       "      <td>female</td>\n",
       "      <td>38.0</td>\n",
       "      <td>1</td>\n",
       "      <td>0</td>\n",
       "      <td>PC 17599</td>\n",
       "      <td>71.2833</td>\n",
       "      <td>C85</td>\n",
       "      <td>C</td>\n",
       "    </tr>\n",
       "    <tr>\n",
       "      <th>2</th>\n",
       "      <td>3</td>\n",
       "      <td>1</td>\n",
       "      <td>3</td>\n",
       "      <td>Heikkinen, Miss. Laina</td>\n",
       "      <td>female</td>\n",
       "      <td>26.0</td>\n",
       "      <td>0</td>\n",
       "      <td>0</td>\n",
       "      <td>STON/O2. 3101282</td>\n",
       "      <td>7.9250</td>\n",
       "      <td>NaN</td>\n",
       "      <td>S</td>\n",
       "    </tr>\n",
       "    <tr>\n",
       "      <th>3</th>\n",
       "      <td>4</td>\n",
       "      <td>1</td>\n",
       "      <td>1</td>\n",
       "      <td>Futrelle, Mrs. Jacques Heath (Lily May Peel)</td>\n",
       "      <td>female</td>\n",
       "      <td>35.0</td>\n",
       "      <td>1</td>\n",
       "      <td>0</td>\n",
       "      <td>113803</td>\n",
       "      <td>53.1000</td>\n",
       "      <td>C123</td>\n",
       "      <td>S</td>\n",
       "    </tr>\n",
       "    <tr>\n",
       "      <th>4</th>\n",
       "      <td>5</td>\n",
       "      <td>0</td>\n",
       "      <td>3</td>\n",
       "      <td>Allen, Mr. William Henry</td>\n",
       "      <td>male</td>\n",
       "      <td>35.0</td>\n",
       "      <td>0</td>\n",
       "      <td>0</td>\n",
       "      <td>373450</td>\n",
       "      <td>8.0500</td>\n",
       "      <td>NaN</td>\n",
       "      <td>S</td>\n",
       "    </tr>\n",
       "  </tbody>\n",
       "</table>\n",
       "</div>"
      ],
      "text/plain": [
       "   PassengerId  Survived  Pclass  \\\n",
       "0            1         0       3   \n",
       "1            2         1       1   \n",
       "2            3         1       3   \n",
       "3            4         1       1   \n",
       "4            5         0       3   \n",
       "\n",
       "                                                Name     Sex   Age  SibSp  \\\n",
       "0                            Braund, Mr. Owen Harris    male  22.0      1   \n",
       "1  Cumings, Mrs. John Bradley (Florence Briggs Th...  female  38.0      1   \n",
       "2                             Heikkinen, Miss. Laina  female  26.0      0   \n",
       "3       Futrelle, Mrs. Jacques Heath (Lily May Peel)  female  35.0      1   \n",
       "4                           Allen, Mr. William Henry    male  35.0      0   \n",
       "\n",
       "   Parch            Ticket     Fare Cabin Embarked  \n",
       "0      0         A/5 21171   7.2500   NaN        S  \n",
       "1      0          PC 17599  71.2833   C85        C  \n",
       "2      0  STON/O2. 3101282   7.9250   NaN        S  \n",
       "3      0            113803  53.1000  C123        S  \n",
       "4      0            373450   8.0500   NaN        S  "
      ]
     },
     "execution_count": 3,
     "metadata": {},
     "output_type": "execute_result"
    }
   ],
   "source": [
    "Data.head()"
   ]
  },
  {
   "cell_type": "markdown",
   "metadata": {
    "id": "p2E6Je8OowP7"
   },
   "source": [
    "Выберем данные, которые будем использовать дальше"
   ]
  },
  {
   "cell_type": "code",
   "execution_count": 4,
   "metadata": {
    "id": "D9RDo04SowP8"
   },
   "outputs": [],
   "source": [
    "X = Data[['Pclass', 'Sex', 'Age', 'SibSp', 'Parch', 'Fare', 'Embarked']]\n",
    "Y = Data['Survived']"
   ]
  },
  {
   "cell_type": "markdown",
   "metadata": {
    "id": "z4EFGUP2owP-"
   },
   "source": [
    "#### 1.2 Пропуски в данных"
   ]
  },
  {
   "cell_type": "markdown",
   "metadata": {
    "id": "ZpipLbO2owP-"
   },
   "source": [
    "Посмотрим на прогпуски в данных"
   ]
  },
  {
   "cell_type": "code",
   "execution_count": 5,
   "metadata": {
    "colab": {
     "base_uri": "https://localhost:8080/",
     "height": 156
    },
    "id": "qA3Uq709owP_",
    "outputId": "42528b55-08a9-4e6e-baf5-477b961ff6de",
    "scrolled": true
   },
   "outputs": [
    {
     "data": {
      "text/plain": [
       "Pclass        0\n",
       "Sex           0\n",
       "Age         177\n",
       "SibSp         0\n",
       "Parch         0\n",
       "Fare          0\n",
       "Embarked      2\n",
       "dtype: int64"
      ]
     },
     "execution_count": 5,
     "metadata": {},
     "output_type": "execute_result"
    }
   ],
   "source": [
    "X.isnull().sum()"
   ]
  },
  {
   "cell_type": "markdown",
   "metadata": {
    "id": "CFxks1RTowQB"
   },
   "source": [
    "Пропуски есть в признаках `Age` и `Embarked`.\n",
    "\n",
    "`Age` вещественный признак. Заполним пропуски в признаке `Age` средним значением.\n",
    "\n",
    "Признак `Embarked` категориальный. Заполним пропуск в признаке `Embarked` новым значениемем. "
   ]
  },
  {
   "cell_type": "code",
   "execution_count": 6,
   "metadata": {
    "colab": {
     "base_uri": "https://localhost:8080/",
     "height": 124
    },
    "id": "0bRpInaXowQC",
    "outputId": "cfaa24b5-ab7c-4277-969b-73216e596384"
   },
   "outputs": [],
   "source": [
    "X.Age.fillna(X.Age.mean(), inplace = True)"
   ]
  },
  {
   "cell_type": "code",
   "execution_count": 7,
   "metadata": {
    "id": "4eA0xGaRowQE"
   },
   "outputs": [],
   "source": [
    "X.Embarked.fillna('None',  inplace = True)"
   ]
  },
  {
   "cell_type": "markdown",
   "metadata": {
    "id": "4oWMpJ76owQF"
   },
   "source": [
    "Посмотрим на получившиеся данные"
   ]
  },
  {
   "cell_type": "code",
   "execution_count": 8,
   "metadata": {
    "colab": {
     "base_uri": "https://localhost:8080/",
     "height": 202
    },
    "id": "9B7pUrSRowQG",
    "outputId": "441ec307-6008-4f19-ad6b-b8ee3384a15a"
   },
   "outputs": [
    {
     "data": {
      "text/html": [
       "<div>\n",
       "<style scoped>\n",
       "    .dataframe tbody tr th:only-of-type {\n",
       "        vertical-align: middle;\n",
       "    }\n",
       "\n",
       "    .dataframe tbody tr th {\n",
       "        vertical-align: top;\n",
       "    }\n",
       "\n",
       "    .dataframe thead th {\n",
       "        text-align: right;\n",
       "    }\n",
       "</style>\n",
       "<table border=\"1\" class=\"dataframe\">\n",
       "  <thead>\n",
       "    <tr style=\"text-align: right;\">\n",
       "      <th></th>\n",
       "      <th>Pclass</th>\n",
       "      <th>Sex</th>\n",
       "      <th>Age</th>\n",
       "      <th>SibSp</th>\n",
       "      <th>Parch</th>\n",
       "      <th>Fare</th>\n",
       "      <th>Embarked</th>\n",
       "    </tr>\n",
       "  </thead>\n",
       "  <tbody>\n",
       "    <tr>\n",
       "      <th>0</th>\n",
       "      <td>3</td>\n",
       "      <td>male</td>\n",
       "      <td>22.0</td>\n",
       "      <td>1</td>\n",
       "      <td>0</td>\n",
       "      <td>7.2500</td>\n",
       "      <td>S</td>\n",
       "    </tr>\n",
       "    <tr>\n",
       "      <th>1</th>\n",
       "      <td>1</td>\n",
       "      <td>female</td>\n",
       "      <td>38.0</td>\n",
       "      <td>1</td>\n",
       "      <td>0</td>\n",
       "      <td>71.2833</td>\n",
       "      <td>C</td>\n",
       "    </tr>\n",
       "    <tr>\n",
       "      <th>2</th>\n",
       "      <td>3</td>\n",
       "      <td>female</td>\n",
       "      <td>26.0</td>\n",
       "      <td>0</td>\n",
       "      <td>0</td>\n",
       "      <td>7.9250</td>\n",
       "      <td>S</td>\n",
       "    </tr>\n",
       "    <tr>\n",
       "      <th>3</th>\n",
       "      <td>1</td>\n",
       "      <td>female</td>\n",
       "      <td>35.0</td>\n",
       "      <td>1</td>\n",
       "      <td>0</td>\n",
       "      <td>53.1000</td>\n",
       "      <td>S</td>\n",
       "    </tr>\n",
       "    <tr>\n",
       "      <th>4</th>\n",
       "      <td>3</td>\n",
       "      <td>male</td>\n",
       "      <td>35.0</td>\n",
       "      <td>0</td>\n",
       "      <td>0</td>\n",
       "      <td>8.0500</td>\n",
       "      <td>S</td>\n",
       "    </tr>\n",
       "  </tbody>\n",
       "</table>\n",
       "</div>"
      ],
      "text/plain": [
       "   Pclass     Sex   Age  SibSp  Parch     Fare Embarked\n",
       "0       3    male  22.0      1      0   7.2500        S\n",
       "1       1  female  38.0      1      0  71.2833        C\n",
       "2       3  female  26.0      0      0   7.9250        S\n",
       "3       1  female  35.0      1      0  53.1000        S\n",
       "4       3    male  35.0      0      0   8.0500        S"
      ]
     },
     "execution_count": 8,
     "metadata": {},
     "output_type": "execute_result"
    }
   ],
   "source": [
    "X.head()"
   ]
  },
  {
   "cell_type": "code",
   "execution_count": 9,
   "metadata": {
    "colab": {
     "base_uri": "https://localhost:8080/",
     "height": 225
    },
    "id": "W9HhGlufowQI",
    "outputId": "09705b4c-b91d-4d5b-8223-155bc61e7956"
   },
   "outputs": [
    {
     "name": "stdout",
     "output_type": "stream",
     "text": [
      "<class 'pandas.core.frame.DataFrame'>\n",
      "RangeIndex: 891 entries, 0 to 890\n",
      "Data columns (total 7 columns):\n",
      " #   Column    Non-Null Count  Dtype  \n",
      "---  ------    --------------  -----  \n",
      " 0   Pclass    891 non-null    int64  \n",
      " 1   Sex       891 non-null    object \n",
      " 2   Age       891 non-null    float64\n",
      " 3   SibSp     891 non-null    int64  \n",
      " 4   Parch     891 non-null    int64  \n",
      " 5   Fare      891 non-null    float64\n",
      " 6   Embarked  891 non-null    object \n",
      "dtypes: float64(2), int64(3), object(2)\n",
      "memory usage: 48.9+ KB\n"
     ]
    }
   ],
   "source": [
    "X.info()"
   ]
  },
  {
   "cell_type": "markdown",
   "metadata": {
    "id": "L6rK5OGbowQL"
   },
   "source": [
    "#### 1.3 Обработка категориальных признаков"
   ]
  },
  {
   "cell_type": "markdown",
   "metadata": {
    "id": "KUh310SkowQL"
   },
   "source": [
    "Чтобы далее мы смогли использовать алгоритм машинного обучения, необходимо все признаки привести к числовому виду."
   ]
  },
  {
   "cell_type": "markdown",
   "metadata": {
    "id": "RaJlUIiIowQM"
   },
   "source": [
    "В данных есть категориальные признаки Sex и Embarked со строковыми значениями."
   ]
  },
  {
   "cell_type": "markdown",
   "metadata": {
    "id": "EAISoSGzowQM"
   },
   "source": [
    "`Sex` - бинарный признак, заменим ``male`` на 1, а `female` на 0"
   ]
  },
  {
   "cell_type": "code",
   "execution_count": 10,
   "metadata": {
    "colab": {
     "base_uri": "https://localhost:8080/",
     "height": 35
    },
    "id": "I8Cy-G_KowQN",
    "outputId": "b3dcdf12-df28-4ed6-e39a-8ba443216194"
   },
   "outputs": [
    {
     "data": {
      "text/plain": [
       "array(['male', 'female'], dtype=object)"
      ]
     },
     "execution_count": 10,
     "metadata": {},
     "output_type": "execute_result"
    }
   ],
   "source": [
    "X.Sex.unique()"
   ]
  },
  {
   "cell_type": "code",
   "execution_count": 11,
   "metadata": {
    "colab": {
     "base_uri": "https://localhost:8080/",
     "height": 141
    },
    "id": "QR86Cwr3owQQ",
    "outputId": "8fc279bd-2b5d-4388-e02b-7dec1577b16b"
   },
   "outputs": [],
   "source": [
    "X.loc[:, 'Sex'] = X['Sex'].map({'male': 1, 'female':0})"
   ]
  },
  {
   "cell_type": "markdown",
   "metadata": {
    "id": "BITM1hlSowQR"
   },
   "source": [
    "`Embarked` - категориальный признак который содержит 4 уникальных значения."
   ]
  },
  {
   "cell_type": "markdown",
   "metadata": {
    "id": "V7ldUlI1owQS"
   },
   "source": [
    "Чтобы привести его к числовому виду воспользуемся `one-hot` кодировкой"
   ]
  },
  {
   "cell_type": "code",
   "execution_count": 12,
   "metadata": {
    "colab": {
     "base_uri": "https://localhost:8080/",
     "height": 35
    },
    "id": "1g7x9XJiowQT",
    "outputId": "85b67ad0-8f60-4ca9-bddc-c60bac8bb714"
   },
   "outputs": [
    {
     "data": {
      "text/plain": [
       "array(['S', 'C', 'Q', 'None'], dtype=object)"
      ]
     },
     "execution_count": 12,
     "metadata": {},
     "output_type": "execute_result"
    }
   ],
   "source": [
    "X.Embarked.unique()"
   ]
  },
  {
   "cell_type": "code",
   "execution_count": 13,
   "metadata": {
    "id": "epN53Kd2owQZ"
   },
   "outputs": [],
   "source": [
    "X = pd.get_dummies(X, columns=['Embarked'])"
   ]
  },
  {
   "cell_type": "code",
   "execution_count": 14,
   "metadata": {
    "colab": {
     "base_uri": "https://localhost:8080/",
     "height": 1000
    },
    "id": "lWzplvn9E3MX",
    "outputId": "c7ea806c-a2c2-490e-e336-e610ec3ca403"
   },
   "outputs": [
    {
     "data": {
      "text/plain": [
       "0      1\n",
       "1      0\n",
       "2      0\n",
       "3      0\n",
       "4      1\n",
       "      ..\n",
       "886    1\n",
       "887    0\n",
       "888    0\n",
       "889    1\n",
       "890    1\n",
       "Name: Sex, Length: 891, dtype: int64"
      ]
     },
     "execution_count": 14,
     "metadata": {},
     "output_type": "execute_result"
    }
   ],
   "source": [
    "X['Sex']"
   ]
  },
  {
   "cell_type": "markdown",
   "metadata": {
    "id": "kbCE6dwAowQc"
   },
   "source": [
    "#### 1.4 Разделение данных на обучение и контроль"
   ]
  },
  {
   "cell_type": "markdown",
   "metadata": {
    "id": "F_Fa3lo0owQc"
   },
   "source": [
    "Разделим данные на обучающие и тестовые, чтобы в тестовых оказалось 30% объектов, а в обучающих 70%"
   ]
  },
  {
   "cell_type": "code",
   "execution_count": 15,
   "metadata": {
    "id": "6tiBOOA0owQd"
   },
   "outputs": [],
   "source": [
    "from sklearn.model_selection import train_test_split"
   ]
  },
  {
   "cell_type": "code",
   "execution_count": 16,
   "metadata": {
    "id": "TIgs6qUaowQf"
   },
   "outputs": [],
   "source": [
    "X_train, X_test, Y_train, Y_test = train_test_split(X, Y, test_size = 0.3)"
   ]
  },
  {
   "cell_type": "code",
   "execution_count": 17,
   "metadata": {
    "colab": {
     "base_uri": "https://localhost:8080/",
     "height": 35
    },
    "id": "lxN0KZPXowQg",
    "outputId": "45b5df80-5315-42c8-949d-91be90d3ec90"
   },
   "outputs": [
    {
     "name": "stdout",
     "output_type": "stream",
     "text": [
      "(623, 10) (268, 10) (623,) (268,)\n"
     ]
    }
   ],
   "source": [
    "print (X_train.shape, X_test.shape, Y_train.shape, Y_test.shape)"
   ]
  },
  {
   "cell_type": "markdown",
   "metadata": {
    "id": "MMkMO7JiowQi"
   },
   "source": [
    "#### 1.5 Масштабирование данных"
   ]
  },
  {
   "cell_type": "markdown",
   "metadata": {
    "id": "8ljcU3zSowQj"
   },
   "source": [
    "Для линейных методов матрицу объекты-признаки необходимо предварительно масштабировать\n",
    "(то есть привести каждый признак к одному и тому же масштабу).\n",
    "\n",
    "Для этого можно воспользоваться StandardScaler или сделать это вручную."
   ]
  },
  {
   "cell_type": "code",
   "execution_count": 18,
   "metadata": {
    "colab": {
     "base_uri": "https://localhost:8080/",
     "height": 141
    },
    "id": "anTDyF2oowQj",
    "outputId": "39e7fd57-db1d-4399-b471-55c7ccaaadf7"
   },
   "outputs": [],
   "source": [
    "from sklearn.preprocessing import StandardScaler\n",
    "\n",
    "scaler = StandardScaler()\n",
    "scaler.fit(X_train)\n",
    "\n",
    "X_train = scaler.transform(X_train)\n",
    "X_test = scaler.transform(X_test)"
   ]
  },
  {
   "cell_type": "markdown",
   "metadata": {
    "id": "IA2dYoniowQk"
   },
   "source": [
    "## 2. LogisticRegression"
   ]
  },
  {
   "cell_type": "markdown",
   "metadata": {
    "id": "aaBHyzlaowQl"
   },
   "source": [
    "Будем обучать самый простой бинарный классификатор — логистическую регрессию. \n",
    "\n",
    "Используем готовую реализацию LogisticRegression из scikit-learn."
   ]
  },
  {
   "cell_type": "code",
   "execution_count": 19,
   "metadata": {
    "id": "leky_pcoowQl"
   },
   "outputs": [],
   "source": [
    "from sklearn.linear_model import LogisticRegression"
   ]
  },
  {
   "cell_type": "markdown",
   "metadata": {
    "id": "LMT_8eY4owQn"
   },
   "source": [
    "Обучим логистическую регрессию на данных X_train."
   ]
  },
  {
   "cell_type": "code",
   "execution_count": 20,
   "metadata": {
    "colab": {
     "base_uri": "https://localhost:8080/",
     "height": 141
    },
    "id": "9twq2GwoowQn",
    "outputId": "d7e1ead8-1c2a-4d1a-fb38-94da63a55d24"
   },
   "outputs": [
    {
     "data": {
      "text/plain": [
       "LogisticRegression(C=1.0, class_weight=None, dual=False, fit_intercept=True,\n",
       "                   intercept_scaling=1, l1_ratio=None, max_iter=100,\n",
       "                   multi_class='auto', n_jobs=None, penalty='l2',\n",
       "                   random_state=None, solver='lbfgs', tol=0.0001, verbose=0,\n",
       "                   warm_start=False)"
      ]
     },
     "execution_count": 20,
     "metadata": {},
     "output_type": "execute_result"
    }
   ],
   "source": [
    "clf = LogisticRegression()\n",
    "clf.fit(X_train, Y_train)"
   ]
  },
  {
   "cell_type": "markdown",
   "metadata": {
    "id": "3ERMgVj7owQp"
   },
   "source": [
    "У обученной логистической регрессии есть два аттрибута: `coef_` и `intercept_`, которые соответствуют весам $w$ и $w_0$. \n",
    "\n",
    "Это и есть результат обучения логистической регрессии. \n"
   ]
  },
  {
   "cell_type": "markdown",
   "metadata": {
    "id": "K76tPUgMAF-n"
   },
   "source": [
    "Посмотрим на то, какие признаки оказались наиболее важными с точки зрения обученной модели. Для этого визуализируем веса, соответствующие признакам. Если признаки отмасштабированы, то чем больше вес по модулю - тем более сильным является признак."
   ]
  },
  {
   "cell_type": "code",
   "execution_count": 21,
   "metadata": {
    "colab": {
     "base_uri": "https://localhost:8080/",
     "height": 269
    },
    "id": "WyL5NkD9AE7D",
    "outputId": "222105c3-3a62-4a27-cecb-38470da291cb"
   },
   "outputs": [
    {
     "data": {
      "image/png": "[encoded data removed]",
      "text/plain": [
       "<Figure size 432x288 with 1 Axes>"
      ]
     },
     "metadata": {
      "needs_background": "light"
     },
     "output_type": "display_data"
    }
   ],
   "source": [
    "\n",
    "sorted_weights = sorted(zip(clf.coef_.ravel(), X.columns), reverse=True)\n",
    "weights = [x[0] for x in sorted_weights]\n",
    "features = [x[1] for x in sorted_weights]\n",
    "df = pd.DataFrame({'features': features, 'weights':weights})\n",
    "ax = df.plot.barh(x='features', y='weights', rot=0, )"
   ]
  },
  {
   "cell_type": "markdown",
   "metadata": {
    "id": "h2DznCo8ADbs"
   },
   "source": [
    "Посчитаем с помощью аттрибутов `coef_` и `intercept_` (с помощью всё той же обученной ранее логистической регрессии)  предсказание вероятности принадлежности объекта к положительному классу для тестовой части."
   ]
  },
  {
   "cell_type": "markdown",
   "metadata": {
    "id": "PJpMXFA6owQq"
   },
   "source": [
    "Для этого применим логистическую функцию к  $ w_0 + <w, x>$"
   ]
  },
  {
   "cell_type": "markdown",
   "metadata": {
    "id": "Euf07-15owQr"
   },
   "source": [
    "Реализуем логистическую функцию и построим её график."
   ]
  },
  {
   "cell_type": "code",
   "execution_count": 22,
   "metadata": {
    "colab": {
     "base_uri": "https://localhost:8080/",
     "height": 281
    },
    "id": "pSC8BSwdowQr",
    "outputId": "48427317-b167-4654-a810-a3e67a92e15e"
   },
   "outputs": [
    {
     "data": {
      "image/png": "[encoded data removed]",
      "text/plain": [
       "<Figure size 432x288 with 1 Axes>"
      ]
     },
     "metadata": {
      "needs_background": "light"
     },
     "output_type": "display_data"
    }
   ],
   "source": [
    "import numpy as np\n",
    "from matplotlib import pyplot as plt\n",
    "\n",
    "x = np.linspace(-10, 10, 1000)\n",
    "\n",
    "def logistic_function(x):\n",
    "    return 1 / (1 + np.exp(-x))\n",
    "\n",
    "plt.title('Logit - function')\n",
    "plt.plot(x, logistic_function(x))\n",
    "plt.show()"
   ]
  },
  {
   "cell_type": "markdown",
   "metadata": {
    "id": "9JztQoDfowQt"
   },
   "source": [
    "предсказание вероятности принадлежности объекта к положительному классу для тестовой части вычислим с помощью матричного произведения в numpy"
   ]
  },
  {
   "cell_type": "code",
   "execution_count": 23,
   "metadata": {
    "id": "3EYU_6h4owQt"
   },
   "outputs": [],
   "source": [
    "pred_prob = np.ravel(logistic_function(np.dot(X_test, clf.coef_.T) + clf.intercept_))"
   ]
  },
  {
   "cell_type": "markdown",
   "metadata": {
    "id": "ngOMgl00owQv"
   },
   "source": [
    "Вычислить предсказание вероятности принадлежности объекта к положительному классу можно и с помощью метода predict_proba"
   ]
  },
  {
   "cell_type": "code",
   "execution_count": 24,
   "metadata": {
    "id": "9a9qIPvjowQv"
   },
   "outputs": [],
   "source": [
    "pred_predict_proba = clf.predict_proba(X_test)[:, 1]"
   ]
  },
  {
   "cell_type": "markdown",
   "metadata": {
    "id": "62zX0WedowQx"
   },
   "source": [
    "Убедимся, что предсказанные значения совпадают"
   ]
  },
  {
   "cell_type": "code",
   "execution_count": 25,
   "metadata": {
    "colab": {
     "base_uri": "https://localhost:8080/",
     "height": 35
    },
    "id": "6erQNad3owQx",
    "outputId": "cd699bf8-23f7-4aa7-d8ae-70f3c3cc102b"
   },
   "outputs": [
    {
     "data": {
      "text/plain": [
       "True"
      ]
     },
     "execution_count": 25,
     "metadata": {},
     "output_type": "execute_result"
    }
   ],
   "source": [
    "np.all([pred_prob, pred_predict_proba])"
   ]
  },
  {
   "cell_type": "markdown",
   "metadata": {
    "id": "gQGchY1UowQz"
   },
   "source": [
    "Чтобы получить в качестве предсказания метки классов, можно предсказанные вероятности принадлежности объекта к положительному классу бинаризовать по порогу (например по порогу 0.5)"
   ]
  },
  {
   "cell_type": "markdown",
   "metadata": {
    "id": "8hBMr657owQ0"
   },
   "source": [
    "Бинаризуем по порогу 0.5 и посчитаем долю правильных ответов (accuracy) на тестовой выборке."
   ]
  },
  {
   "cell_type": "code",
   "execution_count": 26,
   "metadata": {
    "colab": {
     "base_uri": "https://localhost:8080/",
     "height": 35
    },
    "id": "WuBRt3WyowQ0",
    "outputId": "903bc697-da64-466a-df6e-7b98d58956cf"
   },
   "outputs": [
    {
     "data": {
      "text/plain": [
       "0.7985074626865671"
      ]
     },
     "execution_count": 26,
     "metadata": {},
     "output_type": "execute_result"
    }
   ],
   "source": [
    "np.mean((pred_prob > 0.5) == Y_test)"
   ]
  },
  {
   "cell_type": "markdown",
   "metadata": {
    "id": "Ze7oOb3howQ2"
   },
   "source": [
    "Для предсказания меток классов в sklearn есть метод predict."
   ]
  },
  {
   "cell_type": "code",
   "execution_count": 27,
   "metadata": {
    "colab": {
     "base_uri": "https://localhost:8080/",
     "height": 35
    },
    "id": "CYadRvglowQ2",
    "outputId": "1a6f69e2-957c-4895-d590-fffecb6e9f19"
   },
   "outputs": [
    {
     "data": {
      "text/plain": [
       "0.7985074626865671"
      ]
     },
     "execution_count": 27,
     "metadata": {},
     "output_type": "execute_result"
    }
   ],
   "source": [
    "pred = clf.predict(X_test)\n",
    "np.mean(pred == Y_test)"
   ]
  },
  {
   "cell_type": "markdown",
   "metadata": {
    "id": "bodsXp_OowQ5"
   },
   "source": [
    "Таким образом, обучение логистической регрессии — настройка параметров $w$ и $w_0$.\n",
    "\n",
    "Применение — подсчёт вероятностей принадлежности положительному классу как применение логистической функции к скалярному произведению признаков и параметров."
   ]
  },
  {
   "cell_type": "markdown",
   "metadata": {
    "id": "bK2SNgaIqjwZ"
   },
   "source": [
    "Посмотрим на распределение целевого значения"
   ]
  },
  {
   "cell_type": "code",
   "execution_count": 28,
   "metadata": {
    "colab": {
     "base_uri": "https://localhost:8080/",
     "height": 321
    },
    "id": "m-5gRAZFqO-D",
    "outputId": "086c0e0e-7b69-4a59-c661-b807f6899198"
   },
   "outputs": [
    {
     "data": {
      "text/plain": [
       "(array([162.,   0.,   0.,   0.,   0.,   0.,   0.,   0.,   0., 106.]),\n",
       " array([0. , 0.1, 0.2, 0.3, 0.4, 0.5, 0.6, 0.7, 0.8, 0.9, 1. ]),\n",
       " <a list of 10 Patch objects>)"
      ]
     },
     "execution_count": 28,
     "metadata": {},
     "output_type": "execute_result"
    },
    {
     "data": {
      "image/png": "[encoded data removed]",
      "text/plain": [
       "<Figure size 432x288 with 1 Axes>"
      ]
     },
     "metadata": {
      "needs_background": "light"
     },
     "output_type": "display_data"
    }
   ],
   "source": [
    "plt.hist(Y_test)"
   ]
  },
  {
   "cell_type": "markdown",
   "metadata": {
    "id": "klnzI9dItJkM"
   },
   "source": [
    "Посмотрим на распределение предсказываемого значения"
   ]
  },
  {
   "cell_type": "code",
   "execution_count": 29,
   "metadata": {
    "colab": {
     "base_uri": "https://localhost:8080/",
     "height": 356
    },
    "id": "Arcfw142qqFP",
    "outputId": "36784f72-51f9-4714-de3f-21b1764c6ee8"
   },
   "outputs": [
    {
     "data": {
      "text/plain": [
       "(array([65., 50., 22., 14., 11., 20., 27., 17., 15., 27.]),\n",
       " array([0.00873549, 0.10552052, 0.20230555, 0.29909058, 0.39587561,\n",
       "        0.49266064, 0.58944567, 0.6862307 , 0.78301573, 0.87980076,\n",
       "        0.97658579]),\n",
       " <a list of 10 Patch objects>)"
      ]
     },
     "execution_count": 29,
     "metadata": {},
     "output_type": "execute_result"
    },
    {
     "data": {
      "image/png": "[encoded data removed]",
      "text/plain": [
       "<Figure size 432x288 with 1 Axes>"
      ]
     },
     "metadata": {
      "needs_background": "light"
     },
     "output_type": "display_data"
    }
   ],
   "source": [
    "plt.hist(clf.predict_proba(X_test)[:, 1])"
   ]
  },
  {
   "cell_type": "markdown",
   "metadata": {
    "id": "HsHNJMwlys6j"
   },
   "source": [
    "Логистическая регрессия возращает вероятности. Проверим это. Для этого рассмотрим объекты, для которых логистическая регрессия предсказала вероятность принадлежности классу 1 от 0.75 до 0.85. Оценим точность предсказания на этих объектах. При большом числе объектов в выборке точность предсказания должна быть близка к 0.8."
   ]
  },
  {
   "cell_type": "code",
   "execution_count": 30,
   "metadata": {
    "id": "UobqaSo3uK2R"
   },
   "outputs": [],
   "source": [
    "predict_proba = clf.predict_proba(X_test)[:, 1]"
   ]
  },
  {
   "cell_type": "code",
   "execution_count": 31,
   "metadata": {
    "colab": {
     "base_uri": "https://localhost:8080/",
     "height": 35
    },
    "id": "r0ZZme0suZoM",
    "outputId": "4131f73c-a705-4bae-eeae-b6f356c6f5af"
   },
   "outputs": [
    {
     "data": {
      "text/plain": [
       "0.8947368421052632"
      ]
     },
     "execution_count": 31,
     "metadata": {},
     "output_type": "execute_result"
    }
   ],
   "source": [
    "np.mean(Y_test[(predict_proba > 0.75) & (predict_proba < 0.85)])"
   ]
  },
  {
   "cell_type": "code",
   "execution_count": null,
   "metadata": {
    "id": "AFiNBVTDucUc"
   },
   "outputs": [],
   "source": []
  }
 ],
 "metadata": {
  "colab": {
   "collapsed_sections": [],
   "name": "logit_regression_sem.ipynb",
   "provenance": []
  },
  "kernelspec": {
   "display_name": "Python 3 (ipykernel)",
   "language": "python",
   "name": "python3"
  },
  "language_info": {
   "codemirror_mode": {
    "name": "ipython",
    "version": 3
   },
   "file_extension": ".py",
   "mimetype": "text/x-python",
   "name": "python",
   "nbconvert_exporter": "python",
   "pygments_lexer": "ipython3",
   "version": "3.8.11"
  }
 },
 "nbformat": 4,
 "nbformat_minor": 1
}
