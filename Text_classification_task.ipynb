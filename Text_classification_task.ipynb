{
 "cells": [
  {
   "cell_type": "markdown",
   "metadata": {},
   "source": [
    "# Классификация текстов: предобработка"
   ]
  },
  {
   "cell_type": "code",
   "execution_count": 1,
   "metadata": {
    "id": "8jSVwwV0ZSib"
   },
   "outputs": [],
   "source": [
    "import warnings\n",
    "warnings.filterwarnings(\"ignore\", category=FutureWarning)\n",
    "warnings.filterwarnings(\"ignore\")"
   ]
  },
  {
   "cell_type": "markdown",
   "metadata": {
    "id": "EyOBT_yuOPbt"
   },
   "source": [
    "## 20Newsgroups"
   ]
  },
  {
   "cell_type": "code",
   "execution_count": 2,
   "metadata": {
    "id": "0pXEYBa1irKy"
   },
   "outputs": [],
   "source": [
    "import sklearn\n",
    "from sklearn.datasets import fetch_20newsgroups"
   ]
  },
  {
   "cell_type": "code",
   "execution_count": 3,
   "metadata": {
    "id": "6kPs28eIizK7"
   },
   "outputs": [],
   "source": [
    "newsgroups_train = sklearn.datasets.fetch_20newsgroups(data_home='/home/jovyan/work/seminar_6/', \n",
    "                                    subset='train',\n",
    "                                    download_if_missing=False)\n",
    "newsgroups_test = sklearn.datasets.fetch_20newsgroups(data_home='/home/jovyan/work/seminar_6/', \n",
    "                                    subset='test',\n",
    "                                    download_if_missing=False)"
   ]
  },
  {
   "cell_type": "code",
   "execution_count": 4,
   "metadata": {
    "colab": {
     "base_uri": "https://localhost:8080/",
     "height": 35
    },
    "id": "-TJi0Cpvi0GB",
    "outputId": "a7f4a420-5f9b-4196-b161-c4584a5cb66d"
   },
   "outputs": [
    {
     "data": {
      "text/plain": [
       "dict_keys(['data', 'filenames', 'target_names', 'target', 'DESCR'])"
      ]
     },
     "execution_count": 4,
     "metadata": {},
     "output_type": "execute_result"
    }
   ],
   "source": [
    "newsgroups_train.keys()"
   ]
  },
  {
   "cell_type": "code",
   "execution_count": 5,
   "metadata": {
    "colab": {
     "base_uri": "https://localhost:8080/",
     "height": 397
    },
    "id": "3bS4nDRNi0Ju",
    "outputId": "dda50cf5-97ef-4fb7-d0a8-84091e1566e1"
   },
   "outputs": [
    {
     "name": "stdout",
     "output_type": "stream",
     "text": [
      "From: lerxst@wam.umd.edu (where's my thing)\n",
      "Subject: WHAT car is this!?\n",
      "Nntp-Posting-Host: rac3.wam.umd.edu\n",
      "Organization: University of Maryland, College Park\n",
      "Lines: 15\n",
      "\n",
      " I was wondering if anyone out there could enlighten me on this car I saw\n",
      "the other day. It was a 2-door sports car, looked to be from the late 60s/\n",
      "early 70s. It was called a Bricklin. The doors were really small. In addition,\n",
      "the front bumper was separate from the rest of the body. This is \n",
      "all I know. If anyone can tellme a model name, engine specs, years\n",
      "of production, where this car is made, history, or whatever info you\n",
      "have on this funky looking car, please e-mail.\n",
      "\n",
      "Thanks,\n",
      "- IL\n",
      "   ---- brought to you by your neighborhood Lerxst ----\n",
      "\n",
      "\n",
      "\n",
      "\n",
      "\n"
     ]
    }
   ],
   "source": [
    "print (newsgroups_train.data[0])"
   ]
  },
  {
   "cell_type": "markdown",
   "metadata": {
    "id": "4gyFClg2Oi3q"
   },
   "source": [
    "### 1. Предварительная обработка текста"
   ]
  },
  {
   "cell_type": "code",
   "execution_count": 8,
   "metadata": {
    "colab": {
     "base_uri": "https://localhost:8080/",
     "height": 86
    },
    "id": "NLzaHw-_i0su",
    "outputId": "3a95ead1-aa15-4220-b569-dfa17876d42c"
   },
   "outputs": [
    {
     "name": "stderr",
     "output_type": "stream",
     "text": [
      "[nltk_data] Downloading package stopwords to /home/jovyan/nltk_data...\n",
      "[nltk_data]   Unzipping corpora/stopwords.zip.\n",
      "[nltk_data] Downloading package punkt to /home/jovyan/nltk_data...\n",
      "[nltk_data]   Unzipping tokenizers/punkt.zip.\n"
     ]
    }
   ],
   "source": [
    "import nltk\n",
    "nltk.download('stopwords')\n",
    "nltk.download('punkt')\n",
    "from nltk.corpus import stopwords\n",
    "from nltk.tokenize import word_tokenize\n",
    "import re\n",
    "import tqdm\n",
    "\n",
    "\n",
    "def preprocess_text(texts):\n",
    "    stop_words = set(stopwords.words('english'))\n",
    "    regex = re.compile('[^a-z A-Z]')\n",
    "    preprocess_texts = []\n",
    "    for i in  tqdm.tqdm(range(len(texts))):\n",
    "        text = texts[i].lower()\n",
    "        text = regex.sub(' ', text)\n",
    "        word_tokens = word_tokenize(text) \n",
    "        filtered_sentence = [w for w in word_tokens if not w in stop_words] \n",
    "        preprocess_texts.append( ' '.join(filtered_sentence))\n",
    "    \n",
    "    return preprocess_texts"
   ]
  },
  {
   "cell_type": "code",
   "execution_count": 9,
   "metadata": {
    "colab": {
     "base_uri": "https://localhost:8080/",
     "height": 35
    },
    "id": "S-7Y15RKi0vg",
    "outputId": "50517bb0-7e1e-4693-830f-5f3da0da3301"
   },
   "outputs": [
    {
     "name": "stderr",
     "output_type": "stream",
     "text": [
      "100%|██████████| 11314/11314 [00:14<00:00, 797.22it/s]\n"
     ]
    }
   ],
   "source": [
    "newsgroups_train['preprocess_data'] = preprocess_text(newsgroups_train.data)"
   ]
  },
  {
   "cell_type": "code",
   "execution_count": 10,
   "metadata": {
    "colab": {
     "base_uri": "https://localhost:8080/",
     "height": 35
    },
    "id": "okehw7-zjIqK",
    "outputId": "3b8032bd-5025-4bfe-cb0a-e03f0fb5a8b5"
   },
   "outputs": [
    {
     "name": "stderr",
     "output_type": "stream",
     "text": [
      "100%|██████████| 7532/7532 [00:08<00:00, 860.78it/s]\n"
     ]
    }
   ],
   "source": [
    "newsgroups_test['preprocess_data'] = preprocess_text(newsgroups_test.data)"
   ]
  },
  {
   "cell_type": "code",
   "execution_count": 11,
   "metadata": {
    "colab": {
     "base_uri": "https://localhost:8080/",
     "height": 55
    },
    "id": "zTWtrSHAjItA",
    "outputId": "f9afc854-bdfd-4d4c-8467-bf1591be93a6"
   },
   "outputs": [
    {
     "name": "stdout",
     "output_type": "stream",
     "text": [
      "lerxst wam umd edu thing subject car nntp posting host rac wam umd edu organization university maryland college park lines wondering anyone could enlighten car saw day door sports car looked late early called bricklin doors really small addition front bumper separate rest body know anyone tellme model name engine specs years production car made history whatever info funky looking car please e mail thanks il brought neighborhood lerxst\n"
     ]
    }
   ],
   "source": [
    "print(newsgroups_train['preprocess_data'][0])"
   ]
  },
  {
   "cell_type": "code",
   "execution_count": 12,
   "metadata": {
    "id": "tZYKnEeYjIv1"
   },
   "outputs": [],
   "source": [
    "from nltk.stem.lancaster import LancasterStemmer"
   ]
  },
  {
   "cell_type": "code",
   "execution_count": 13,
   "metadata": {
    "id": "LZCOP9HFjIyR"
   },
   "outputs": [],
   "source": [
    "def stemming_texts(texts):\n",
    "  st = LancasterStemmer()\n",
    "  stem_text = []\n",
    "  for text in tqdm.tqdm(texts):\n",
    "    word_tokens = word_tokenize(text)\n",
    "    stem_text.append(' '.join([st.stem(word) for word in word_tokens]))\n",
    "  return stem_text"
   ]
  },
  {
   "cell_type": "code",
   "execution_count": 14,
   "metadata": {
    "colab": {
     "base_uri": "https://localhost:8080/",
     "height": 35
    },
    "id": "D0h_D9xujI1E",
    "outputId": "143559f8-6c9c-4897-ff5f-515b46173a0b"
   },
   "outputs": [
    {
     "name": "stderr",
     "output_type": "stream",
     "text": [
      "100%|██████████| 11314/11314 [00:35<00:00, 317.55it/s]\n"
     ]
    }
   ],
   "source": [
    "newsgroups_train['data_stemming'] = \\\n",
    "                           stemming_texts(newsgroups_train.preprocess_data)"
   ]
  },
  {
   "cell_type": "code",
   "execution_count": null,
   "metadata": {
    "colab": {
     "base_uri": "https://localhost:8080/",
     "height": 35
    },
    "id": "0IgwyKC0jI3g",
    "outputId": "4fd8cd4c-2002-463f-fd37-c5a01fe86306"
   },
   "outputs": [],
   "source": [
    "newsgroups_test['data_stemming'] = \\\n",
    "                            stemming_texts(newsgroups_test.preprocess_data)"
   ]
  },
  {
   "cell_type": "code",
   "execution_count": null,
   "metadata": {
    "colab": {
     "base_uri": "https://localhost:8080/",
     "height": 55
    },
    "id": "N0GU53hfjI6C",
    "outputId": "0ccd8ccc-06ec-43e5-aa82-093f98c7dacd"
   },
   "outputs": [],
   "source": [
    "print(newsgroups_train.data_stemming[0])"
   ]
  },
  {
   "cell_type": "code",
   "execution_count": null,
   "metadata": {
    "colab": {
     "base_uri": "https://localhost:8080/",
     "height": 55
    },
    "id": "lPpe-b5zvmUW",
    "outputId": "d04ba9e2-9ee5-41c6-fa45-2ecfa5884df3"
   },
   "outputs": [],
   "source": [
    "print(newsgroups_train.preprocess_data[0])"
   ]
  },
  {
   "cell_type": "markdown",
   "metadata": {
    "id": "etnaHjcgOzu6"
   },
   "source": [
    "### 2. Перевод текста в вещественное пространство признаков"
   ]
  },
  {
   "cell_type": "markdown",
   "metadata": {
    "id": "Wk1VkR5IO7oO"
   },
   "source": [
    "#### 2.1 Bag of Words (мешок слов)"
   ]
  },
  {
   "cell_type": "markdown",
   "metadata": {
    "id": "hI8oo_G1PClx"
   },
   "source": [
    "Основное предположение данного метода — порядок слов в документе не важен, \n",
    "\n",
    "а все документы представляются в виде матрицы $ T = (t)_{d,w}$,\n",
    "\n",
    "каждая строка в которой соответствует отдельному документу или тексту, \n",
    "\n",
    "а каждый столбец — определенному слову. \n",
    "\n",
    "Элемент $t_{d,w}$ соответствует количеству вхождений слова $w$ в документ $d$.\n",
    "\n",
    "\n",
    "\n",
    "\n",
    "\n"
   ]
  },
  {
   "cell_type": "code",
   "execution_count": null,
   "metadata": {
    "id": "WocMYLbTv9vC"
   },
   "outputs": [],
   "source": [
    "from sklearn.feature_extraction.text import CountVectorizer"
   ]
  },
  {
   "cell_type": "code",
   "execution_count": null,
   "metadata": {
    "id": "VC_57sTEQBMa"
   },
   "outputs": [],
   "source": [
    "vectorizer = CountVectorizer()"
   ]
  },
  {
   "cell_type": "code",
   "execution_count": null,
   "metadata": {
    "colab": {
     "base_uri": "https://localhost:8080/",
     "height": 121
    },
    "id": "Aybc8qotQHh8",
    "outputId": "bb0be84e-fac9-4b1d-fc9c-29ccc6235ad5"
   },
   "outputs": [],
   "source": [
    "vectorizer.fit(['порядок слов в документе не важен', 'мешок слов'])"
   ]
  },
  {
   "cell_type": "code",
   "execution_count": null,
   "metadata": {
    "colab": {
     "base_uri": "https://localhost:8080/",
     "height": 35
    },
    "id": "LM1spxAeQe3q",
    "outputId": "4558eac4-6bfe-4f63-b00d-2f8d38955a25"
   },
   "outputs": [],
   "source": [
    "vectorizer.get_feature_names()"
   ]
  },
  {
   "cell_type": "code",
   "execution_count": null,
   "metadata": {
    "colab": {
     "base_uri": "https://localhost:8080/",
     "height": 52
    },
    "id": "dvG4o-1kQn3z",
    "outputId": "77607385-eb9b-4930-f737-25a7736301b3"
   },
   "outputs": [],
   "source": [
    "vectorizer.transform(['важен порядок', 'не мешок не порядок']).toarray()"
   ]
  },
  {
   "cell_type": "code",
   "execution_count": null,
   "metadata": {
    "id": "4fednKkjeE-_"
   },
   "outputs": [],
   "source": [
    "def bow(vectorizer, train, test):\n",
    "  train_bow = vectorizer.fit_transform(train)\n",
    "  test_bow = vectorizer.transform(test)\n",
    "  return train_bow, test_bow"
   ]
  },
  {
   "cell_type": "code",
   "execution_count": null,
   "metadata": {
    "id": "LEPL9R0jfUc-"
   },
   "outputs": [],
   "source": [
    "X_train_bow, X_test_bow = bow(vectorizer, \n",
    "                              newsgroups_train.data, \n",
    "                              newsgroups_test.data)"
   ]
  },
  {
   "cell_type": "code",
   "execution_count": null,
   "metadata": {
    "colab": {
     "base_uri": "https://localhost:8080/",
     "height": 35
    },
    "id": "xaETMkjcfuTv",
    "outputId": "30b796a8-e1d3-47d5-ac21-14fde414f992"
   },
   "outputs": [],
   "source": [
    "X_train_bow.shape"
   ]
  },
  {
   "cell_type": "code",
   "execution_count": null,
   "metadata": {
    "colab": {
     "base_uri": "https://localhost:8080/",
     "height": 35
    },
    "id": "VXwbJ1OBf1SV",
    "outputId": "3eec8e8f-45a5-4bd4-8d15-36cc74bbb67a"
   },
   "outputs": [],
   "source": [
    "X_test_bow.shape"
   ]
  },
  {
   "cell_type": "code",
   "execution_count": null,
   "metadata": {
    "id": "IEfDbzuRgDSY"
   },
   "outputs": [],
   "source": [
    "X_train_bow_preprocess, X_test_bow_preprocess = bow(vectorizer, \n",
    "                                                    newsgroups_train.preprocess_data,\n",
    "                                                    newsgroups_test.preprocess_data)"
   ]
  },
  {
   "cell_type": "code",
   "execution_count": null,
   "metadata": {
    "colab": {
     "base_uri": "https://localhost:8080/",
     "height": 35
    },
    "id": "D2BHnhodjIIs",
    "outputId": "3b336a68-9087-4a38-e8ee-a0090bf05469"
   },
   "outputs": [],
   "source": [
    "X_train_bow_preprocess.shape"
   ]
  },
  {
   "cell_type": "code",
   "execution_count": null,
   "metadata": {
    "colab": {
     "base_uri": "https://localhost:8080/",
     "height": 35
    },
    "id": "-vxGrCfejLVX",
    "outputId": "186a8c1b-8a1b-4f37-acee-e6531c8af76f"
   },
   "outputs": [],
   "source": [
    "X_test_bow_preprocess.shape"
   ]
  },
  {
   "cell_type": "code",
   "execution_count": null,
   "metadata": {
    "id": "ftID74NijN7q"
   },
   "outputs": [],
   "source": [
    "X_train_bow_stem, X_test_bow_stem = bow(vectorizer, \n",
    "                                        newsgroups_train.data_stemming,\n",
    "                                        newsgroups_test.data_stemming)"
   ]
  },
  {
   "cell_type": "code",
   "execution_count": null,
   "metadata": {
    "colab": {
     "base_uri": "https://localhost:8080/",
     "height": 35
    },
    "id": "BDErCxTPjgr1",
    "outputId": "b245b699-212b-4cf2-e357-4f1f12b86fc8"
   },
   "outputs": [],
   "source": [
    "X_train_bow_stem.shape"
   ]
  },
  {
   "cell_type": "code",
   "execution_count": null,
   "metadata": {
    "colab": {
     "base_uri": "https://localhost:8080/",
     "height": 35
    },
    "id": "xoTAihrHjlnk",
    "outputId": "85065200-c0ff-4e10-ec79-beb7205b1240"
   },
   "outputs": [],
   "source": [
    "X_test_bow_stem.shape"
   ]
  },
  {
   "cell_type": "markdown",
   "metadata": {
    "id": "8JvGQleCSvHS"
   },
   "source": [
    "#### 2.2 Bag of Words & TF IDF"
   ]
  },
  {
   "cell_type": "markdown",
   "metadata": {
    "id": "8YSNwHr2SRMh"
   },
   "source": [
    "$TF-IDF$ — это статистическая мера, используемая для оценки\n",
    "\n",
    "важности слова в контексте документа. Вычисляется по формуле:\n",
    "\n",
    "$$TF-IDF(w, d, D) = TF(w, d) × IDF(w, D)$$\n",
    "\n",
    "$TF$ — частота слова, оценивает важность слова $w_i$ в пределах отдельного документа.\n",
    "\n",
    "$$TF(w, d) = \\frac{n_i}{\\sum_k n_k}$$\n",
    "\n",
    "$n_i$ — число вхождений слова $i$ в документ.\n",
    "\n",
    "$\\sum_k n_k$ — общее число слов в данном документе.\n",
    "\n",
    "$IDF$ — обратная частота документа. \n",
    "\n",
    "Учёт $IDF$ уменьшает вес широко употребляемых слов.\n",
    "$$IDF(w, D) = \\log \\frac{|D|}{|w_i \\subset d_i|}, \\text{где}$$\n",
    "\n",
    "$|D|$ — количество документов в корпусе.\n",
    "\n",
    "$|w_i \\subset d_i|$ — количество документов,\n",
    "\n",
    "в которых встречается слово $w_i$."
   ]
  },
  {
   "cell_type": "code",
   "execution_count": null,
   "metadata": {
    "id": "rteG9u1zjovT"
   },
   "outputs": [],
   "source": [
    "from sklearn.feature_extraction.text import TfidfVectorizer"
   ]
  },
  {
   "cell_type": "code",
   "execution_count": null,
   "metadata": {
    "id": "FKZDpujwkIdK"
   },
   "outputs": [],
   "source": [
    "vectorizer_tf_idf = TfidfVectorizer()"
   ]
  },
  {
   "cell_type": "code",
   "execution_count": null,
   "metadata": {
    "id": "KlDqTbIFkSq2"
   },
   "outputs": [],
   "source": [
    "X_train_tfidf, X_test_tfidf = bow(vectorizer_tf_idf, \n",
    "                                  newsgroups_train.data, \n",
    "                                  newsgroups_test.data)"
   ]
  },
  {
   "cell_type": "code",
   "execution_count": null,
   "metadata": {
    "id": "1JTYu0JEkqVi"
   },
   "outputs": [],
   "source": [
    "X_train_tfidf_preprocess, X_test_tfidf_preprocess = bow(vectorizer_tf_idf,\n",
    "                                                        newsgroups_train.preprocess_data,\n",
    "                                                        newsgroups_test.preprocess_data)"
   ]
  },
  {
   "cell_type": "code",
   "execution_count": null,
   "metadata": {
    "id": "0zmpdGT1lIWL"
   },
   "outputs": [],
   "source": [
    "X_train_tfidf_stem, X_test_tfidf_stem = bow(vectorizer_tf_idf,\n",
    "                                            newsgroups_train.data_stemming,\n",
    "                                            newsgroups_test.data_stemming)"
   ]
  },
  {
   "cell_type": "code",
   "execution_count": null,
   "metadata": {
    "id": "3u-SKgBXlbRq"
   },
   "outputs": [],
   "source": [
    "vectorizer_ngram = TfidfVectorizer(ngram_range=(1,2))"
   ]
  },
  {
   "cell_type": "code",
   "execution_count": null,
   "metadata": {
    "id": "eFKYG1uRmZgV"
   },
   "outputs": [],
   "source": [
    "X_train_ngram_stem, X_test_ngram_stem = bow(vectorizer_ngram, \n",
    "                                            newsgroups_train.data_stemming,\n",
    "                                            newsgroups_test.data_stemming)"
   ]
  },
  {
   "cell_type": "code",
   "execution_count": null,
   "metadata": {
    "colab": {
     "base_uri": "https://localhost:8080/",
     "height": 35
    },
    "id": "D4xEOvcanTgN",
    "outputId": "1dab3d27-770d-4f84-9c42-c2fef0bf7906"
   },
   "outputs": [],
   "source": [
    "X_train_ngram_stem.shape"
   ]
  },
  {
   "cell_type": "code",
   "execution_count": null,
   "metadata": {
    "colab": {
     "base_uri": "https://localhost:8080/",
     "height": 35
    },
    "id": "Vq4oBoQwnaU-",
    "outputId": "2133a654-d4fe-43a5-a5f9-ff106b4ca2e7"
   },
   "outputs": [],
   "source": [
    "X_test_ngram_stem.shape"
   ]
  },
  {
   "cell_type": "markdown",
   "metadata": {
    "id": "DdeFw_f58fw4"
   },
   "source": [
    "### 3. Выбор алгоритма машинного обучения для классификации."
   ]
  },
  {
   "cell_type": "code",
   "execution_count": null,
   "metadata": {
    "id": "GhRQvNYLndMl"
   },
   "outputs": [],
   "source": [
    "from sklearn.metrics import accuracy_score\n",
    "import numpy as np"
   ]
  },
  {
   "cell_type": "code",
   "execution_count": null,
   "metadata": {
    "id": "47mZPCNrZzMk"
   },
   "outputs": [],
   "source": [
    "from sklearn.linear_model import LogisticRegression\n",
    "clf = LogisticRegression()"
   ]
  },
  {
   "cell_type": "code",
   "execution_count": null,
   "metadata": {
    "id": "doizgpm8TJGl"
   },
   "outputs": [],
   "source": [
    "from sklearn.svm import LinearSVC\n",
    "clf_svc = LinearSVC()"
   ]
  },
  {
   "cell_type": "code",
   "execution_count": null,
   "metadata": {
    "colab": {
     "base_uri": "https://localhost:8080/",
     "height": 52
    },
    "id": "BxB4gQxUZzG4",
    "outputId": "f9fd7d81-0c0d-4d34-a0ab-628947edd5d8"
   },
   "outputs": [],
   "source": [
    "clf.fit(X_train_bow, newsgroups_train.target)\n",
    "print ('LogisticRegression: ',\n",
    "       accuracy_score(clf.predict(X_test_bow), newsgroups_test.target))\n",
    "\n",
    "clf_svc.fit(X_train_bow, newsgroups_train.target)\n",
    "print ('LinearSVC: ',\n",
    "       accuracy_score(clf_svc.predict(X_test_bow), newsgroups_test.target))"
   ]
  },
  {
   "cell_type": "code",
   "execution_count": null,
   "metadata": {
    "colab": {
     "base_uri": "https://localhost:8080/",
     "height": 52
    },
    "id": "9e9N2wHqZzAo",
    "outputId": "d9d4ea7f-b18a-44ae-a71e-c10c304c2275"
   },
   "outputs": [],
   "source": [
    "clf.fit(X_train_bow_preprocess, newsgroups_train.target)\n",
    "print ('LogisticRegression: ',\n",
    "       accuracy_score(clf.predict(X_test_bow_preprocess),\n",
    "                      newsgroups_test.target))\n",
    "\n",
    "clf_svc.fit(X_train_bow_preprocess, newsgroups_train.target)\n",
    "print ('LinearSVC: ',\n",
    "       accuracy_score(clf_svc.predict(X_test_bow_preprocess),\n",
    "                      newsgroups_test.target))\n",
    "\n"
   ]
  },
  {
   "cell_type": "code",
   "execution_count": null,
   "metadata": {
    "colab": {
     "base_uri": "https://localhost:8080/",
     "height": 52
    },
    "id": "gjNzmA3eZy7O",
    "outputId": "c23db17e-7500-4b57-dc57-c891c4edee69"
   },
   "outputs": [],
   "source": [
    "clf.fit(X_train_bow_stem, newsgroups_train.target)\n",
    "print ('LogisticRegression: ',\n",
    "       accuracy_score(clf.predict(X_test_bow_stem),\n",
    "                      newsgroups_test.target))\n",
    "\n",
    "clf_svc.fit(X_train_bow_stem, newsgroups_train.target)\n",
    "print ('LinearSVC: ',\n",
    "       accuracy_score(clf_svc.predict(X_test_bow_stem),\n",
    "                      newsgroups_test.target))"
   ]
  },
  {
   "cell_type": "code",
   "execution_count": null,
   "metadata": {
    "colab": {
     "base_uri": "https://localhost:8080/",
     "height": 52
    },
    "id": "dz9GwO-NZyyg",
    "outputId": "e2aea1a5-a8ef-4fcf-9079-7571c8e8293e"
   },
   "outputs": [],
   "source": [
    "clf.fit(X_train_tfidf, newsgroups_train.target)\n",
    "print ('LogisticRegression: ',\n",
    "       accuracy_score(clf.predict(X_test_tfidf), newsgroups_test.target))\n",
    "\n",
    "clf_svc.fit(X_train_tfidf, newsgroups_train.target)\n",
    "print ('LinearSVC: ',\n",
    "       accuracy_score(clf_svc.predict(X_test_tfidf), newsgroups_test.target))"
   ]
  },
  {
   "cell_type": "code",
   "execution_count": null,
   "metadata": {
    "colab": {
     "base_uri": "https://localhost:8080/",
     "height": 52
    },
    "id": "OTVeqc4GZyei",
    "outputId": "2fee7c8a-e925-4726-b82c-3a54b1847091"
   },
   "outputs": [],
   "source": [
    "clf.fit(X_train_tfidf_preprocess, newsgroups_train.target)\n",
    "print ('LogisticRegression: ',\n",
    "        accuracy_score(clf.predict(X_test_tfidf_preprocess), \n",
    "                       newsgroups_test.target))\n",
    "\n",
    "clf_svc.fit(X_train_tfidf_preprocess, newsgroups_train.target)\n",
    "print ('LinearSVC: ',\n",
    "        accuracy_score(clf_svc.predict(X_test_tfidf_preprocess), \n",
    "                       newsgroups_test.target))"
   ]
  },
  {
   "cell_type": "code",
   "execution_count": null,
   "metadata": {
    "colab": {
     "base_uri": "https://localhost:8080/",
     "height": 52
    },
    "id": "AsWsVay6Zyax",
    "outputId": "412684a2-16c2-482d-8c2f-f3d4263b3aab"
   },
   "outputs": [],
   "source": [
    "clf.fit(X_train_tfidf_stem, newsgroups_train.target)\n",
    "print ('LogisticRegression: ',\n",
    "       accuracy_score(clf.predict(X_test_tfidf_stem), \n",
    "                      newsgroups_test.target))\n",
    "\n",
    "clf_svc.fit(X_train_tfidf_stem, newsgroups_train.target)\n",
    "print ('LinearSVC: ',\n",
    "       accuracy_score(clf_svc.predict(X_test_tfidf_stem),\n",
    "                      newsgroups_test.target))"
   ]
  },
  {
   "cell_type": "code",
   "execution_count": null,
   "metadata": {
    "colab": {
     "base_uri": "https://localhost:8080/",
     "height": 52
    },
    "id": "EpIlTWoYZyYU",
    "outputId": "609e1aa2-5671-46de-dd2d-bb01a68b0192"
   },
   "outputs": [],
   "source": [
    "clf.fit(X_train_ngram_stem, newsgroups_train.target)\n",
    "print ('LogisticRegression: ',\n",
    "       accuracy_score(clf.predict(X_test_ngram_stem), \n",
    "                      newsgroups_test.target))\n",
    "\n",
    "clf_svc.fit(X_train_ngram_stem, newsgroups_train.target)\n",
    "print ('LinearSVC: ',\n",
    "       accuracy_score(clf_svc.predict(X_test_ngram_stem),\n",
    "                      newsgroups_test.target))"
   ]
  },
  {
   "cell_type": "code",
   "execution_count": null,
   "metadata": {
    "id": "JJHWFcawjVKd"
   },
   "outputs": [],
   "source": [
    "import seaborn\n",
    "from sklearn.metrics import confusion_matrix"
   ]
  },
  {
   "cell_type": "code",
   "execution_count": null,
   "metadata": {
    "id": "WcuEWD2IjVII"
   },
   "outputs": [],
   "source": [
    "predict_targets = clf_svc.predict(X_test_ngram_stem)"
   ]
  },
  {
   "cell_type": "code",
   "execution_count": null,
   "metadata": {
    "colab": {
     "base_uri": "https://localhost:8080/",
     "height": 286
    },
    "id": "GuCopDNujVDM",
    "outputId": "8e464db8-69a0-402e-e843-79b0752a8940"
   },
   "outputs": [],
   "source": [
    "seaborn.heatmap(confusion_matrix(newsgroups_test.target, predict_targets))"
   ]
  },
  {
   "cell_type": "code",
   "execution_count": null,
   "metadata": {
    "colab": {
     "base_uri": "https://localhost:8080/",
     "height": 35
    },
    "id": "2sSdHDPjjVAv",
    "outputId": "e51fa209-efff-40e3-8d5f-559c4c38035f"
   },
   "outputs": [],
   "source": [
    "newsgroups_test.target_names[18]"
   ]
  },
  {
   "cell_type": "code",
   "execution_count": null,
   "metadata": {
    "colab": {
     "base_uri": "https://localhost:8080/",
     "height": 35
    },
    "id": "hrluANXdjU9Q",
    "outputId": "86101033-4044-48ba-cbf8-048169a110e6"
   },
   "outputs": [],
   "source": [
    "newsgroups_test.target_names[16]"
   ]
  },
  {
   "cell_type": "code",
   "execution_count": null,
   "metadata": {
    "colab": {
     "base_uri": "https://localhost:8080/",
     "height": 1000
    },
    "id": "npSRo-HajUye",
    "outputId": "ebe9f7fd-93a5-46a7-c075-e9a6c5b3f69b"
   },
   "outputs": [],
   "source": [
    "ind = np.where(newsgroups_test.target != predict_targets)\n",
    "ind = ind[0]\n",
    "random_ind = np.random.randint(0,ind.shape[0],(2))\n",
    "for i in random_ind:\n",
    "    img=newsgroups_test.data[ind[i]]\n",
    "    print ('Правильный класс: ', \n",
    "           newsgroups_test.target_names[newsgroups_test.target[ind[i]]])\n",
    "    print ('Предсказанный класс: ', \n",
    "           newsgroups_test.target_names[predict_targets[ind[i]]])\n",
    "    print(img)\n"
   ]
  },
  {
   "cell_type": "code",
   "execution_count": null,
   "metadata": {
    "id": "buFTE7SdjUs3"
   },
   "outputs": [],
   "source": []
  },
  {
   "cell_type": "code",
   "execution_count": null,
   "metadata": {
    "id": "DQ_DUOFsZyUu"
   },
   "outputs": [],
   "source": []
  }
 ],
 "metadata": {
  "colab": {
   "collapsed_sections": [],
   "name": "Text.ipynb",
   "provenance": []
  },
  "kernelspec": {
   "display_name": "Python 3",
   "language": "python",
   "name": "python3"
  },
  "language_info": {
   "codemirror_mode": {
    "name": "ipython",
    "version": 3
   },
   "file_extension": ".py",
   "mimetype": "text/x-python",
   "name": "python",
   "nbconvert_exporter": "python",
   "pygments_lexer": "ipython3",
   "version": "3.7.6"
  }
 },
 "nbformat": 4,
 "nbformat_minor": 1
}
